{
 "cells": [
  {
   "cell_type": "code",
   "execution_count": 2,
   "id": "863b29f3-ef01-4f25-8c07-447e29fe0d13",
   "metadata": {},
   "outputs": [],
   "source": [
    "from ultralytics import YOLO\n",
    "import os \n",
    "from PIL import Image"
   ]
  },
  {
   "cell_type": "code",
   "execution_count": null,
   "id": "760a933c-55b1-4d86-b2ea-b70d71f853ac",
   "metadata": {},
   "outputs": [],
   "source": [
    "output_path = \"/home/greatness-within/Downloads/animals/cropped/\""
   ]
  },
  {
   "cell_type": "code",
   "execution_count": 3,
   "id": "3eaff3e3-0690-43da-b01b-206a9675d572",
   "metadata": {},
   "outputs": [],
   "source": [
    "# Load a model\n",
    "model = YOLO(\"yolov8n.pt\")  # pretrained YOLOv8n model"
   ]
  },
  {
   "cell_type": "code",
   "execution_count": 4,
   "id": "35f2fefd-269f-47e8-88dd-3c17018157cf",
   "metadata": {},
   "outputs": [
    {
     "data": {
      "text/plain": [
       "'/home/greatness-within/Downloads/animals/lion-resize-512/Lion156.png'"
      ]
     },
     "execution_count": 4,
     "metadata": {},
     "output_type": "execute_result"
    }
   ],
   "source": [
    "all_paths = []\n",
    "for dir, dir_name, files in os.walk(\"/home/greatness-within/Downloads/animals\"):\n",
    "    for file_name in files:\n",
    "        path = os.path.join(dir, file_name)\n",
    "        all_paths.append(path)\n",
    "\n",
    "all_paths[10]"
   ]
  },
  {
   "cell_type": "code",
   "execution_count": 69,
   "id": "a36f3755-e7c7-4c1c-a67f-241265306bdb",
   "metadata": {},
   "outputs": [],
   "source": [
    "model = YOLO(\"yolov8n.pt\") \n",
    "def get_boxes(path):\n",
    "    # Run batched inference on a list of images\n",
    "          results = model(path)  # return a list of Results objects\n",
    "        # Process results list\n",
    "        for result in results:\n",
    "            boxes = result.boxes.xyxy[0]\n",
    "            return boxes.cpu().detach().tolist()\n"
   ]
  },
  {
   "cell_type": "code",
   "execution_count": 70,
   "id": "720a4ad7-7703-4a13-85a0-df66a0d5eafb",
   "metadata": {},
   "outputs": [],
   "source": [
    "def save_images(path, xyxy):\n",
    "    im = Image.open(path)\n",
    "    im = im.crop(xyxy)\n",
    "    im.save(f\"{output_path}{path[58:-4]}.png\", \"png\")"
   ]
  },
  {
   "cell_type": "code",
   "execution_count": 88,
   "id": "8ee5e958-3b0c-46be-aac0-d694832130d8",
   "metadata": {
    "scrolled": true
   },
   "outputs": [
    {
     "name": "stdout",
     "output_type": "stream",
     "text": [
      "\n",
      "image 1/1 /home/greatness-within/Downloads/animals/cheetahresize-300/cheetah302.png: 640x640 1 giraffe, 3.8ms\n",
      "Speed: 21.2ms preprocess, 3.8ms inference, 1.3ms postprocess per image at shape (1, 3, 640, 640)\n",
      "\n",
      "image 1/1 /home/greatness-within/Downloads/animals/tiger-resize-512/tiger242.png: 640x640 1 dog, 5.6ms\n",
      "Speed: 1.9ms preprocess, 5.6ms inference, 0.6ms postprocess per image at shape (1, 3, 640, 640)\n",
      "\n",
      "image 1/1 /home/greatness-within/Downloads/animals/tiger-resize-512/tiger257.png: 640x640 (no detections), 3.1ms\n",
      "Speed: 1.6ms preprocess, 3.1ms inference, 0.3ms postprocess per image at shape (1, 3, 640, 640)\n",
      "\n",
      "image 1/1 /home/greatness-within/Downloads/animals/tiger-resize-512/tiger108.png: 640x640 1 cat, 5.4ms\n",
      "Speed: 3.3ms preprocess, 5.4ms inference, 1.4ms postprocess per image at shape (1, 3, 640, 640)\n",
      "\n",
      "image 1/1 /home/greatness-within/Downloads/animals/tiger-resize-512/tiger143.png: 640x640 2 zebras, 3.0ms\n",
      "Speed: 1.3ms preprocess, 3.0ms inference, 1.2ms postprocess per image at shape (1, 3, 640, 640)\n",
      "\n",
      "image 1/1 /home/greatness-within/Downloads/animals/tiger-resize-512/tiger085.png: 640x640 1 zebra, 3.1ms\n",
      "Speed: 1.9ms preprocess, 3.1ms inference, 0.5ms postprocess per image at shape (1, 3, 640, 640)\n",
      "\n",
      "image 1/1 /home/greatness-within/Downloads/animals/tiger-resize-512/tiger018.png: 640x640 2 zebras, 3.7ms\n",
      "Speed: 1.4ms preprocess, 3.7ms inference, 0.6ms postprocess per image at shape (1, 3, 640, 640)\n",
      "\n",
      "image 1/1 /home/greatness-within/Downloads/animals/tiger-resize-512/tiger220.png: 640x640 1 giraffe, 3.8ms\n",
      "Speed: 1.3ms preprocess, 3.8ms inference, 0.6ms postprocess per image at shape (1, 3, 640, 640)\n",
      "\n",
      "image 1/1 /home/greatness-within/Downloads/animals/tiger-resize-512/tiger187.png: 640x640 1 zebra, 3.1ms\n",
      "Speed: 1.4ms preprocess, 3.1ms inference, 0.6ms postprocess per image at shape (1, 3, 640, 640)\n",
      "\n",
      "image 1/1 /home/greatness-within/Downloads/animals/tiger-resize-512/tiger104.png: 640x640 (no detections), 3.1ms\n",
      "Speed: 1.3ms preprocess, 3.1ms inference, 0.6ms postprocess per image at shape (1, 3, 640, 640)\n",
      "\n",
      "image 1/1 /home/greatness-within/Downloads/animals/tiger-resize-512/tiger002.png: 640x640 2 cats, 3.0ms\n",
      "Speed: 1.3ms preprocess, 3.0ms inference, 0.6ms postprocess per image at shape (1, 3, 640, 640)\n",
      "\n",
      "image 1/1 /home/greatness-within/Downloads/animals/tiger-resize-512/tiger222.png: 640x640 1 cat, 3.8ms\n",
      "Speed: 1.4ms preprocess, 3.8ms inference, 0.6ms postprocess per image at shape (1, 3, 640, 640)\n",
      "\n",
      "image 1/1 /home/greatness-within/Downloads/animals/tiger-resize-512/tiger093.png: 640x640 1 giraffe, 3.2ms\n",
      "Speed: 1.3ms preprocess, 3.2ms inference, 0.6ms postprocess per image at shape (1, 3, 640, 640)\n",
      "\n",
      "image 1/1 /home/greatness-within/Downloads/animals/tiger-resize-512/tiger102.png: 640x640 1 zebra, 3.2ms\n",
      "Speed: 1.2ms preprocess, 3.2ms inference, 0.9ms postprocess per image at shape (1, 3, 640, 640)\n",
      "\n",
      "image 1/1 /home/greatness-within/Downloads/animals/tiger-resize-512/tiger010.png: 640x640 1 zebra, 3.2ms\n",
      "Speed: 1.3ms preprocess, 3.2ms inference, 0.5ms postprocess per image at shape (1, 3, 640, 640)\n",
      "\n",
      "image 1/1 /home/greatness-within/Downloads/animals/tiger-resize-512/tiger070.png: 640x640 1 cat, 3.2ms\n",
      "Speed: 1.4ms preprocess, 3.2ms inference, 0.6ms postprocess per image at shape (1, 3, 640, 640)\n",
      "\n",
      "image 1/1 /home/greatness-within/Downloads/animals/tiger-resize-512/tiger090.png: 640x640 2 zebras, 3.2ms\n",
      "Speed: 1.4ms preprocess, 3.2ms inference, 0.6ms postprocess per image at shape (1, 3, 640, 640)\n",
      "\n",
      "image 1/1 /home/greatness-within/Downloads/animals/tiger-resize-512/tiger075.png: 640x640 1 bear, 1 giraffe, 3.3ms\n",
      "Speed: 1.4ms preprocess, 3.3ms inference, 0.6ms postprocess per image at shape (1, 3, 640, 640)\n",
      "\n",
      "image 1/1 /home/greatness-within/Downloads/animals/tiger-resize-512/tiger082.png: 640x640 1 horse, 3.3ms\n",
      "Speed: 1.4ms preprocess, 3.3ms inference, 3.4ms postprocess per image at shape (1, 3, 640, 640)\n",
      "\n",
      "image 1/1 /home/greatness-within/Downloads/animals/tiger-resize-512/tiger042.png: 640x640 1 cat, 3.3ms\n",
      "Speed: 1.3ms preprocess, 3.3ms inference, 0.6ms postprocess per image at shape (1, 3, 640, 640)\n",
      "\n",
      "image 1/1 /home/greatness-within/Downloads/animals/tiger-resize-512/tiger110.png: 640x640 1 horse, 3.3ms\n",
      "Speed: 1.4ms preprocess, 3.3ms inference, 0.6ms postprocess per image at shape (1, 3, 640, 640)\n",
      "\n",
      "image 1/1 /home/greatness-within/Downloads/animals/tiger-resize-512/tiger227.png: 640x640 1 zebra, 4.5ms\n",
      "Speed: 1.6ms preprocess, 4.5ms inference, 0.6ms postprocess per image at shape (1, 3, 640, 640)\n",
      "\n",
      "image 1/1 /home/greatness-within/Downloads/animals/tiger-resize-512/tiger003.png: 640x640 1 zebra, 3.8ms\n",
      "Speed: 1.3ms preprocess, 3.8ms inference, 1.8ms postprocess per image at shape (1, 3, 640, 640)\n",
      "\n",
      "image 1/1 /home/greatness-within/Downloads/animals/tiger-resize-512/tiger167.png: 640x640 1 zebra, 3.9ms\n",
      "Speed: 1.3ms preprocess, 3.9ms inference, 1.6ms postprocess per image at shape (1, 3, 640, 640)\n",
      "\n",
      "image 1/1 /home/greatness-within/Downloads/animals/tiger-resize-512/tiger151.png: 640x640 1 zebra, 5.2ms\n",
      "Speed: 2.3ms preprocess, 5.2ms inference, 6.2ms postprocess per image at shape (1, 3, 640, 640)\n",
      "\n",
      "image 1/1 /home/greatness-within/Downloads/animals/tiger-resize-512/tiger178.png: 640x640 1 cat, 3.3ms\n",
      "Speed: 1.4ms preprocess, 3.3ms inference, 1.2ms postprocess per image at shape (1, 3, 640, 640)\n",
      "\n",
      "image 1/1 /home/greatness-within/Downloads/animals/tiger-resize-512/tiger219.png: 640x640 (no detections), 3.2ms\n",
      "Speed: 1.4ms preprocess, 3.2ms inference, 0.3ms postprocess per image at shape (1, 3, 640, 640)\n",
      "\n",
      "image 1/1 /home/greatness-within/Downloads/animals/tiger-resize-512/tiger203.png: 640x640 (no detections), 3.2ms\n",
      "Speed: 1.3ms preprocess, 3.2ms inference, 0.3ms postprocess per image at shape (1, 3, 640, 640)\n",
      "\n",
      "image 1/1 /home/greatness-within/Downloads/animals/tiger-resize-512/tiger232.png: 640x640 1 person, 1 dog, 3.3ms\n",
      "Speed: 1.4ms preprocess, 3.3ms inference, 1.2ms postprocess per image at shape (1, 3, 640, 640)\n",
      "\n",
      "image 1/1 /home/greatness-within/Downloads/animals/tiger-resize-512/tiger067.png: 640x640 1 zebra, 3.5ms\n",
      "Speed: 1.4ms preprocess, 3.5ms inference, 1.2ms postprocess per image at shape (1, 3, 640, 640)\n",
      "\n",
      "image 1/1 /home/greatness-within/Downloads/animals/tiger-resize-512/tiger197.png: 640x640 1 cat, 3.7ms\n",
      "Speed: 1.3ms preprocess, 3.7ms inference, 1.3ms postprocess per image at shape (1, 3, 640, 640)\n",
      "\n",
      "image 1/1 /home/greatness-within/Downloads/animals/tiger-resize-512/tiger130.png: 640x640 1 zebra, 3.2ms\n",
      "Speed: 1.4ms preprocess, 3.2ms inference, 0.5ms postprocess per image at shape (1, 3, 640, 640)\n",
      "\n",
      "image 1/1 /home/greatness-within/Downloads/animals/tiger-resize-512/tiger022.png: 640x640 1 zebra, 3.2ms\n",
      "Speed: 1.4ms preprocess, 3.2ms inference, 0.6ms postprocess per image at shape (1, 3, 640, 640)\n",
      "\n",
      "image 1/1 /home/greatness-within/Downloads/animals/tiger-resize-512/tiger126.png: 640x640 1 cat, 3.3ms\n",
      "Speed: 1.4ms preprocess, 3.3ms inference, 1.0ms postprocess per image at shape (1, 3, 640, 640)\n",
      "\n",
      "image 1/1 /home/greatness-within/Downloads/animals/tiger-resize-512/tiger152.png: 640x640 1 cat, 1 giraffe, 3.6ms\n",
      "Speed: 1.4ms preprocess, 3.6ms inference, 1.2ms postprocess per image at shape (1, 3, 640, 640)\n"
     ]
    },
    {
     "name": "stderr",
     "output_type": "stream",
     "text": [
      "libpng warning: iCCP: known incorrect sRGB profile\n",
      "libpng warning: iCCP: known incorrect sRGB profile\n"
     ]
    },
    {
     "name": "stdout",
     "output_type": "stream",
     "text": [
      "\n",
      "image 1/1 /home/greatness-within/Downloads/animals/tiger-resize-512/tiger214.png: 640x640 1 cat, 3.9ms\n",
      "Speed: 1.5ms preprocess, 3.9ms inference, 0.5ms postprocess per image at shape (1, 3, 640, 640)\n",
      "\n",
      "image 1/1 /home/greatness-within/Downloads/animals/tiger-resize-512/tiger155.png: 640x640 1 cat, 3.7ms\n",
      "Speed: 1.4ms preprocess, 3.7ms inference, 0.5ms postprocess per image at shape (1, 3, 640, 640)\n",
      "\n",
      "image 1/1 /home/greatness-within/Downloads/animals/tiger-resize-512/tiger269.png: 640x640 1 cat, 1 zebra, 3.9ms\n",
      "Speed: 1.4ms preprocess, 3.9ms inference, 0.6ms postprocess per image at shape (1, 3, 640, 640)\n",
      "\n",
      "image 1/1 /home/greatness-within/Downloads/animals/tiger-resize-512/tiger206.png: 640x640 (no detections), 3.3ms\n",
      "Speed: 1.3ms preprocess, 3.3ms inference, 0.3ms postprocess per image at shape (1, 3, 640, 640)\n",
      "\n",
      "image 1/1 /home/greatness-within/Downloads/animals/tiger-resize-512/tiger023.png: 640x640 1 horse, 3.3ms\n",
      "Speed: 1.4ms preprocess, 3.3ms inference, 0.6ms postprocess per image at shape (1, 3, 640, 640)\n",
      "\n",
      "image 1/1 /home/greatness-within/Downloads/animals/tiger-resize-512/tiger035.png: 640x640 1 zebra, 3.3ms\n",
      "Speed: 1.4ms preprocess, 3.3ms inference, 0.6ms postprocess per image at shape (1, 3, 640, 640)\n"
     ]
    },
    {
     "name": "stderr",
     "output_type": "stream",
     "text": [
      "libpng warning: iCCP: known incorrect sRGB profile\n"
     ]
    },
    {
     "name": "stdout",
     "output_type": "stream",
     "text": [
      "\n",
      "image 1/1 /home/greatness-within/Downloads/animals/tiger-resize-512/tiger038.png: 640x640 4 zebras, 3.9ms\n",
      "Speed: 1.4ms preprocess, 3.9ms inference, 0.7ms postprocess per image at shape (1, 3, 640, 640)\n",
      "\n",
      "image 1/1 /home/greatness-within/Downloads/animals/tiger-resize-512/tiger208.png: 640x640 1 cow, 1 zebra, 3.8ms\n",
      "Speed: 1.3ms preprocess, 3.8ms inference, 0.5ms postprocess per image at shape (1, 3, 640, 640)\n",
      "\n",
      "image 1/1 /home/greatness-within/Downloads/animals/tiger-resize-512/tiger053.png: 640x640 (no detections), 3.3ms\n",
      "Speed: 1.3ms preprocess, 3.3ms inference, 0.3ms postprocess per image at shape (1, 3, 640, 640)\n",
      "\n",
      "image 1/1 /home/greatness-within/Downloads/animals/tiger-resize-512/tiger166.png: 640x640 1 cat, 3.3ms\n",
      "Speed: 1.4ms preprocess, 3.3ms inference, 0.9ms postprocess per image at shape (1, 3, 640, 640)\n",
      "\n",
      "image 1/1 /home/greatness-within/Downloads/animals/tiger-resize-512/tiger084.png: 640x640 1 giraffe, 3.9ms\n",
      "Speed: 1.3ms preprocess, 3.9ms inference, 0.5ms postprocess per image at shape (1, 3, 640, 640)\n",
      "\n",
      "image 1/1 /home/greatness-within/Downloads/animals/tiger-resize-512/tiger164.png: 640x640 1 bird, 2 horses, 3.3ms\n",
      "Speed: 1.4ms preprocess, 3.3ms inference, 0.6ms postprocess per image at shape (1, 3, 640, 640)\n",
      "\n",
      "image 1/1 /home/greatness-within/Downloads/animals/tiger-resize-512/tiger080.png: 640x640 (no detections), 3.3ms\n",
      "Speed: 1.4ms preprocess, 3.3ms inference, 0.3ms postprocess per image at shape (1, 3, 640, 640)\n",
      "\n",
      "image 1/1 /home/greatness-within/Downloads/animals/tiger-resize-512/tiger009.png: 640x640 1 cat, 3.3ms\n",
      "Speed: 1.4ms preprocess, 3.3ms inference, 1.2ms postprocess per image at shape (1, 3, 640, 640)\n",
      "\n",
      "image 1/1 /home/greatness-within/Downloads/animals/tiger-resize-512/tiger249.png: 640x640 1 bird, 1 dog, 3.9ms\n",
      "Speed: 1.5ms preprocess, 3.9ms inference, 0.6ms postprocess per image at shape (1, 3, 640, 640)\n",
      "\n",
      "image 1/1 /home/greatness-within/Downloads/animals/tiger-resize-512/tiger046.png: 640x640 1 cat, 4.0ms\n",
      "Speed: 1.3ms preprocess, 4.0ms inference, 1.2ms postprocess per image at shape (1, 3, 640, 640)\n"
     ]
    },
    {
     "name": "stderr",
     "output_type": "stream",
     "text": [
      "libpng warning: iCCP: known incorrect sRGB profile\n",
      "libpng warning: iCCP: known incorrect sRGB profile\n"
     ]
    },
    {
     "name": "stdout",
     "output_type": "stream",
     "text": [
      "\n",
      "image 1/1 /home/greatness-within/Downloads/animals/tiger-resize-512/tiger024.png: 640x640 1 zebra, 3.8ms\n",
      "Speed: 1.4ms preprocess, 3.8ms inference, 0.7ms postprocess per image at shape (1, 3, 640, 640)\n",
      "\n",
      "image 1/1 /home/greatness-within/Downloads/animals/tiger-resize-512/tiger260.png: 640x640 1 bird, 6.4ms\n",
      "Speed: 1.4ms preprocess, 6.4ms inference, 5.3ms postprocess per image at shape (1, 3, 640, 640)\n",
      "\n",
      "image 1/1 /home/greatness-within/Downloads/animals/tiger-resize-512/tiger244.png: 640x640 1 zebra, 3.9ms\n",
      "Speed: 1.3ms preprocess, 3.9ms inference, 0.6ms postprocess per image at shape (1, 3, 640, 640)\n",
      "\n",
      "image 1/1 /home/greatness-within/Downloads/animals/tiger-resize-512/tiger223.png: 640x640 1 zebra, 3.3ms\n",
      "Speed: 1.6ms preprocess, 3.3ms inference, 0.5ms postprocess per image at shape (1, 3, 640, 640)\n",
      "\n",
      "image 1/1 /home/greatness-within/Downloads/animals/tiger-resize-512/tiger200.png: 640x640 1 zebra, 3.3ms\n",
      "Speed: 1.4ms preprocess, 3.3ms inference, 0.6ms postprocess per image at shape (1, 3, 640, 640)\n"
     ]
    },
    {
     "name": "stderr",
     "output_type": "stream",
     "text": [
      "libpng warning: iCCP: known incorrect sRGB profile\n"
     ]
    },
    {
     "name": "stdout",
     "output_type": "stream",
     "text": [
      "\n",
      "image 1/1 /home/greatness-within/Downloads/animals/tiger-resize-512/tiger154.png: 640x640 1 zebra, 3.3ms\n",
      "Speed: 1.3ms preprocess, 3.3ms inference, 0.5ms postprocess per image at shape (1, 3, 640, 640)\n",
      "\n",
      "image 1/1 /home/greatness-within/Downloads/animals/tiger-resize-512/tiger253.png: 640x640 (no detections), 3.3ms\n",
      "Speed: 1.4ms preprocess, 3.3ms inference, 0.3ms postprocess per image at shape (1, 3, 640, 640)\n",
      "\n",
      "image 1/1 /home/greatness-within/Downloads/animals/tiger-resize-512/tiger191.png: 640x640 1 zebra, 3.2ms\n",
      "Speed: 1.8ms preprocess, 3.2ms inference, 0.5ms postprocess per image at shape (1, 3, 640, 640)\n",
      "\n",
      "image 1/1 /home/greatness-within/Downloads/animals/tiger-resize-512/tiger008.png: 640x640 1 zebra, 3.5ms\n",
      "Speed: 1.3ms preprocess, 3.5ms inference, 0.6ms postprocess per image at shape (1, 3, 640, 640)\n",
      "\n",
      "image 1/1 /home/greatness-within/Downloads/animals/tiger-resize-512/tiger189.png: 640x640 2 zebras, 3.8ms\n",
      "Speed: 1.4ms preprocess, 3.8ms inference, 0.9ms postprocess per image at shape (1, 3, 640, 640)\n",
      "\n",
      "image 1/1 /home/greatness-within/Downloads/animals/tiger-resize-512/tiger094.png: 640x640 1 cat, 1 giraffe, 3.9ms\n",
      "Speed: 1.4ms preprocess, 3.9ms inference, 0.6ms postprocess per image at shape (1, 3, 640, 640)\n",
      "\n",
      "image 1/1 /home/greatness-within/Downloads/animals/tiger-resize-512/tiger184.png: 640x640 (no detections), 3.3ms\n",
      "Speed: 1.4ms preprocess, 3.3ms inference, 0.6ms postprocess per image at shape (1, 3, 640, 640)\n",
      "\n",
      "image 1/1 /home/greatness-within/Downloads/animals/tiger-resize-512/tiger062.png: 640x640 1 zebra, 3.3ms\n",
      "Speed: 1.5ms preprocess, 3.3ms inference, 1.0ms postprocess per image at shape (1, 3, 640, 640)\n",
      "\n",
      "image 1/1 /home/greatness-within/Downloads/animals/tiger-resize-512/tiger141.png: 640x640 1 giraffe, 5.1ms\n",
      "Speed: 3.3ms preprocess, 5.1ms inference, 5.6ms postprocess per image at shape (1, 3, 640, 640)\n",
      "\n",
      "image 1/1 /home/greatness-within/Downloads/animals/tiger-resize-512/tiger233.png: 640x640 1 zebra, 3.3ms\n",
      "Speed: 1.4ms preprocess, 3.3ms inference, 1.2ms postprocess per image at shape (1, 3, 640, 640)\n",
      "\n",
      "image 1/1 /home/greatness-within/Downloads/animals/tiger-resize-512/tiger048.png: 640x640 1 bird, 3.3ms\n",
      "Speed: 1.7ms preprocess, 3.3ms inference, 0.6ms postprocess per image at shape (1, 3, 640, 640)\n",
      "\n",
      "image 1/1 /home/greatness-within/Downloads/animals/tiger-resize-512/tiger068.png: 640x640 1 cat, 4.2ms\n",
      "Speed: 1.9ms preprocess, 4.2ms inference, 0.6ms postprocess per image at shape (1, 3, 640, 640)\n",
      "\n",
      "image 1/1 /home/greatness-within/Downloads/animals/tiger-resize-512/tiger150.png: 640x640 1 horse, 4.0ms\n",
      "Speed: 1.4ms preprocess, 4.0ms inference, 0.6ms postprocess per image at shape (1, 3, 640, 640)\n",
      "\n",
      "image 1/1 /home/greatness-within/Downloads/animals/tiger-resize-512/tiger039.png: 640x640 1 cat, 4.1ms\n",
      "Speed: 1.3ms preprocess, 4.1ms inference, 0.6ms postprocess per image at shape (1, 3, 640, 640)\n",
      "\n",
      "image 1/1 /home/greatness-within/Downloads/animals/tiger-resize-512/tiger041.png: 640x640 1 cat, 1 giraffe, 3.5ms\n",
      "Speed: 1.4ms preprocess, 3.5ms inference, 1.4ms postprocess per image at shape (1, 3, 640, 640)\n",
      "\n",
      "image 1/1 /home/greatness-within/Downloads/animals/tiger-resize-512/tiger263.png: 640x640 1 cat, 3.8ms\n",
      "Speed: 1.3ms preprocess, 3.8ms inference, 1.2ms postprocess per image at shape (1, 3, 640, 640)\n"
     ]
    },
    {
     "name": "stderr",
     "output_type": "stream",
     "text": [
      "libpng warning: iCCP: known incorrect sRGB profile\n"
     ]
    },
    {
     "name": "stdout",
     "output_type": "stream",
     "text": [
      "\n",
      "image 1/1 /home/greatness-within/Downloads/animals/tiger-resize-512/tiger190.png: 640x640 1 horse, 5.5ms\n",
      "Speed: 2.1ms preprocess, 5.5ms inference, 2.7ms postprocess per image at shape (1, 3, 640, 640)\n",
      "\n",
      "image 1/1 /home/greatness-within/Downloads/animals/tiger-resize-512/tiger265.png: 640x640 1 cat, 1 dog, 4.0ms\n",
      "Speed: 1.4ms preprocess, 4.0ms inference, 0.5ms postprocess per image at shape (1, 3, 640, 640)\n",
      "\n",
      "image 1/1 /home/greatness-within/Downloads/animals/tiger-resize-512/tiger170.png: 640x640 1 zebra, 3.2ms\n",
      "Speed: 1.3ms preprocess, 3.2ms inference, 0.9ms postprocess per image at shape (1, 3, 640, 640)\n",
      "\n",
      "image 1/1 /home/greatness-within/Downloads/animals/tiger-resize-512/tiger076.png: 640x640 1 zebra, 4.4ms\n",
      "Speed: 1.6ms preprocess, 4.4ms inference, 0.6ms postprocess per image at shape (1, 3, 640, 640)\n",
      "\n",
      "image 1/1 /home/greatness-within/Downloads/animals/tiger-resize-512/tiger028.png: 640x640 1 horse, 3.2ms\n",
      "Speed: 1.4ms preprocess, 3.2ms inference, 0.5ms postprocess per image at shape (1, 3, 640, 640)\n",
      "\n",
      "image 1/1 /home/greatness-within/Downloads/animals/tiger-resize-512/tiger139.png: 640x640 1 zebra, 3.8ms\n",
      "Speed: 1.4ms preprocess, 3.8ms inference, 0.5ms postprocess per image at shape (1, 3, 640, 640)\n",
      "\n",
      "image 1/1 /home/greatness-within/Downloads/animals/tiger-resize-512/tiger241.png: 640x640 1 zebra, 3.2ms\n",
      "Speed: 1.4ms preprocess, 3.2ms inference, 0.7ms postprocess per image at shape (1, 3, 640, 640)\n",
      "\n",
      "image 1/1 /home/greatness-within/Downloads/animals/tiger-resize-512/tiger019.png: 640x640 1 zebra, 3.3ms\n",
      "Speed: 1.4ms preprocess, 3.3ms inference, 0.6ms postprocess per image at shape (1, 3, 640, 640)\n",
      "\n",
      "image 1/1 /home/greatness-within/Downloads/animals/tiger-resize-512/tiger073.png: 640x640 2 zebras, 3.3ms\n",
      "Speed: 1.4ms preprocess, 3.3ms inference, 0.5ms postprocess per image at shape (1, 3, 640, 640)\n",
      "\n",
      "image 1/1 /home/greatness-within/Downloads/animals/tiger-resize-512/tiger171.png: 640x640 (no detections), 3.2ms\n",
      "Speed: 1.3ms preprocess, 3.2ms inference, 0.3ms postprocess per image at shape (1, 3, 640, 640)\n",
      "\n",
      "image 1/1 /home/greatness-within/Downloads/animals/tiger-resize-512/tiger054.png: 640x640 1 cat, 3.9ms\n",
      "Speed: 1.4ms preprocess, 3.9ms inference, 0.9ms postprocess per image at shape (1, 3, 640, 640)\n",
      "\n",
      "image 1/1 /home/greatness-within/Downloads/animals/tiger-resize-512/tiger248.png: 640x640 (no detections), 3.8ms\n",
      "Speed: 1.3ms preprocess, 3.8ms inference, 0.6ms postprocess per image at shape (1, 3, 640, 640)\n",
      "\n",
      "image 1/1 /home/greatness-within/Downloads/animals/tiger-resize-512/tiger163.png: 640x640 1 zebra, 3.3ms\n",
      "Speed: 1.4ms preprocess, 3.3ms inference, 0.5ms postprocess per image at shape (1, 3, 640, 640)\n",
      "\n",
      "image 1/1 /home/greatness-within/Downloads/animals/tiger-resize-512/tiger078.png: 640x640 1 cat, 3.7ms\n",
      "Speed: 1.5ms preprocess, 3.7ms inference, 0.5ms postprocess per image at shape (1, 3, 640, 640)\n",
      "\n",
      "image 1/1 /home/greatness-within/Downloads/animals/tiger-resize-512/tiger021.png: 640x640 1 zebra, 3.3ms\n",
      "Speed: 1.4ms preprocess, 3.3ms inference, 0.6ms postprocess per image at shape (1, 3, 640, 640)\n",
      "\n",
      "image 1/1 /home/greatness-within/Downloads/animals/tiger-resize-512/tiger043.png: 640x640 (no detections), 3.3ms\n",
      "Speed: 1.4ms preprocess, 3.3ms inference, 0.3ms postprocess per image at shape (1, 3, 640, 640)\n",
      "\n",
      "image 1/1 /home/greatness-within/Downloads/animals/tiger-resize-512/tiger122.png: 640x640 1 zebra, 4.9ms\n",
      "Speed: 1.4ms preprocess, 4.9ms inference, 6.1ms postprocess per image at shape (1, 3, 640, 640)\n",
      "\n",
      "image 1/1 /home/greatness-within/Downloads/animals/tiger-resize-512/tiger207.png: 640x640 (no detections), 3.3ms\n",
      "Speed: 1.3ms preprocess, 3.3ms inference, 0.3ms postprocess per image at shape (1, 3, 640, 640)\n"
     ]
    },
    {
     "name": "stderr",
     "output_type": "stream",
     "text": [
      "libpng warning: iCCP: known incorrect sRGB profile\n"
     ]
    },
    {
     "name": "stdout",
     "output_type": "stream",
     "text": [
      "\n",
      "image 1/1 /home/greatness-within/Downloads/animals/tiger-resize-512/tiger129.png: 640x640 1 zebra, 3.3ms\n",
      "Speed: 1.4ms preprocess, 3.3ms inference, 0.7ms postprocess per image at shape (1, 3, 640, 640)\n",
      "\n",
      "image 1/1 /home/greatness-within/Downloads/animals/tiger-resize-512/tiger192.png: 640x640 1 cat, 3.3ms\n",
      "Speed: 1.5ms preprocess, 3.3ms inference, 0.6ms postprocess per image at shape (1, 3, 640, 640)\n",
      "\n",
      "image 1/1 /home/greatness-within/Downloads/animals/tiger-resize-512/tiger175.png: 640x640 1 bird, 4.2ms\n",
      "Speed: 1.4ms preprocess, 4.2ms inference, 0.6ms postprocess per image at shape (1, 3, 640, 640)\n",
      "\n",
      "image 1/1 /home/greatness-within/Downloads/animals/tiger-resize-512/tiger142.png: 640x640 1 stop sign, 2 horses, 4.3ms\n",
      "Speed: 1.4ms preprocess, 4.3ms inference, 1.3ms postprocess per image at shape (1, 3, 640, 640)\n",
      "\n",
      "image 1/1 /home/greatness-within/Downloads/animals/tiger-resize-512/tiger255.png: 640x640 1 zebra, 3.3ms\n",
      "Speed: 1.4ms preprocess, 3.3ms inference, 0.6ms postprocess per image at shape (1, 3, 640, 640)\n",
      "\n",
      "image 1/1 /home/greatness-within/Downloads/animals/tiger-resize-512/tiger202.png: 640x640 2 zebras, 3.9ms\n",
      "Speed: 1.4ms preprocess, 3.9ms inference, 0.9ms postprocess per image at shape (1, 3, 640, 640)\n",
      "\n",
      "image 1/1 /home/greatness-within/Downloads/animals/tiger-resize-512/tiger034.png: 640x640 (no detections), 3.3ms\n",
      "Speed: 1.4ms preprocess, 3.3ms inference, 0.8ms postprocess per image at shape (1, 3, 640, 640)\n",
      "\n",
      "image 1/1 /home/greatness-within/Downloads/animals/tiger-resize-512/tiger125.png: 640x640 1 horse, 3.3ms\n",
      "Speed: 1.5ms preprocess, 3.3ms inference, 0.6ms postprocess per image at shape (1, 3, 640, 640)\n",
      "\n",
      "image 1/1 /home/greatness-within/Downloads/animals/tiger-resize-512/tiger117.png: 640x640 1 zebra, 4.5ms\n",
      "Speed: 1.4ms preprocess, 4.5ms inference, 0.5ms postprocess per image at shape (1, 3, 640, 640)\n",
      "\n",
      "image 1/1 /home/greatness-within/Downloads/animals/tiger-resize-512/tiger137.png: 640x640 1 cat, 4.0ms\n",
      "Speed: 1.8ms preprocess, 4.0ms inference, 0.5ms postprocess per image at shape (1, 3, 640, 640)\n",
      "\n",
      "image 1/1 /home/greatness-within/Downloads/animals/tiger-resize-512/tiger017.png: 640x640 1 bird, 1 zebra, 3.6ms\n",
      "Speed: 1.5ms preprocess, 3.6ms inference, 0.6ms postprocess per image at shape (1, 3, 640, 640)\n",
      "\n",
      "image 1/1 /home/greatness-within/Downloads/animals/tiger-resize-512/tiger264.png: 640x640 1 zebra, 3.8ms\n",
      "Speed: 1.6ms preprocess, 3.8ms inference, 1.1ms postprocess per image at shape (1, 3, 640, 640)\n",
      "\n",
      "image 1/1 /home/greatness-within/Downloads/animals/tiger-resize-512/tiger111.png: 640x640 1 zebra, 3.3ms\n",
      "Speed: 1.3ms preprocess, 3.3ms inference, 0.7ms postprocess per image at shape (1, 3, 640, 640)\n",
      "\n",
      "image 1/1 /home/greatness-within/Downloads/animals/tiger-resize-512/tiger173.png: 640x640 (no detections), 3.3ms\n",
      "Speed: 1.4ms preprocess, 3.3ms inference, 0.3ms postprocess per image at shape (1, 3, 640, 640)\n",
      "\n",
      "image 1/1 /home/greatness-within/Downloads/animals/tiger-resize-512/tiger087.png: 640x640 1 zebra, 3.3ms\n",
      "Speed: 1.3ms preprocess, 3.3ms inference, 0.6ms postprocess per image at shape (1, 3, 640, 640)\n",
      "\n",
      "image 1/1 /home/greatness-within/Downloads/animals/tiger-resize-512/tiger063.png: 640x640 1 cat, 1 zebra, 3.3ms\n",
      "Speed: 1.7ms preprocess, 3.3ms inference, 0.7ms postprocess per image at shape (1, 3, 640, 640)\n",
      "\n",
      "image 1/1 /home/greatness-within/Downloads/animals/tiger-resize-512/tiger025.png: 640x640 1 giraffe, 3.3ms\n",
      "Speed: 1.4ms preprocess, 3.3ms inference, 0.8ms postprocess per image at shape (1, 3, 640, 640)\n",
      "\n",
      "image 1/1 /home/greatness-within/Downloads/animals/tiger-resize-512/tiger040.png: 640x640 1 cat, 6.1ms\n",
      "Speed: 2.6ms preprocess, 6.1ms inference, 5.4ms postprocess per image at shape (1, 3, 640, 640)\n",
      "\n",
      "image 1/1 /home/greatness-within/Downloads/animals/tiger-resize-512/tiger147.png: 640x640 1 horse, 3.3ms\n",
      "Speed: 1.3ms preprocess, 3.3ms inference, 0.5ms postprocess per image at shape (1, 3, 640, 640)\n",
      "\n",
      "image 1/1 /home/greatness-within/Downloads/animals/tiger-resize-512/tiger250.png: 640x640 (no detections), 3.9ms\n",
      "Speed: 1.3ms preprocess, 3.9ms inference, 2.3ms postprocess per image at shape (1, 3, 640, 640)\n"
     ]
    },
    {
     "name": "stderr",
     "output_type": "stream",
     "text": [
      "libpng warning: iCCP: known incorrect sRGB profile\n",
      "libpng warning: iCCP: known incorrect sRGB profile\n"
     ]
    },
    {
     "name": "stdout",
     "output_type": "stream",
     "text": [
      "\n",
      "image 1/1 /home/greatness-within/Downloads/animals/tiger-resize-512/tiger116.png: 640x640 1 cat, 3.3ms\n",
      "Speed: 1.9ms preprocess, 3.3ms inference, 0.6ms postprocess per image at shape (1, 3, 640, 640)\n",
      "\n",
      "image 1/1 /home/greatness-within/Downloads/animals/tiger-resize-512/tiger261.png: 640x640 1 zebra, 3.5ms\n",
      "Speed: 1.5ms preprocess, 3.5ms inference, 0.6ms postprocess per image at shape (1, 3, 640, 640)\n",
      "\n",
      "image 1/1 /home/greatness-within/Downloads/animals/tiger-resize-512/tiger089.png: 640x640 1 cat, 3.7ms\n",
      "Speed: 1.4ms preprocess, 3.7ms inference, 1.0ms postprocess per image at shape (1, 3, 640, 640)\n",
      "\n",
      "image 1/1 /home/greatness-within/Downloads/animals/tiger-resize-512/tiger036.png: 640x640 1 cat, 3.3ms\n",
      "Speed: 1.4ms preprocess, 3.3ms inference, 0.6ms postprocess per image at shape (1, 3, 640, 640)\n",
      "\n",
      "image 1/1 /home/greatness-within/Downloads/animals/tiger-resize-512/tiger230.png: 640x640 1 zebra, 3.3ms\n",
      "Speed: 1.4ms preprocess, 3.3ms inference, 0.6ms postprocess per image at shape (1, 3, 640, 640)\n",
      "\n",
      "image 1/1 /home/greatness-within/Downloads/animals/tiger-resize-512/tiger159.png: 640x640 2 zebras, 3.3ms\n",
      "Speed: 1.4ms preprocess, 3.3ms inference, 0.6ms postprocess per image at shape (1, 3, 640, 640)\n",
      "\n"
     ]
    },
    {
     "name": "stderr",
     "output_type": "stream",
     "text": [
      "libpng warning: iCCP: known incorrect sRGB profile\n",
      "libpng warning: iCCP: known incorrect sRGB profile\n"
     ]
    },
    {
     "name": "stdout",
     "output_type": "stream",
     "text": [
      "image 1/1 /home/greatness-within/Downloads/animals/tiger-resize-512/tiger133.png: 640x640 1 sheep, 1 zebra, 4.9ms\n",
      "Speed: 1.4ms preprocess, 4.9ms inference, 6.2ms postprocess per image at shape (1, 3, 640, 640)\n",
      "\n",
      "image 1/1 /home/greatness-within/Downloads/animals/tiger-resize-512/tiger262.png: 640x640 1 zebra, 3.3ms\n",
      "Speed: 1.3ms preprocess, 3.3ms inference, 0.6ms postprocess per image at shape (1, 3, 640, 640)\n",
      "\n",
      "image 1/1 /home/greatness-within/Downloads/animals/tiger-resize-512/tiger101.png: 640x640 1 bird, 3.3ms\n",
      "Speed: 1.4ms preprocess, 3.3ms inference, 0.6ms postprocess per image at shape (1, 3, 640, 640)\n",
      "\n",
      "image 1/1 /home/greatness-within/Downloads/animals/tiger-resize-512/tiger121.png: 640x640 1 cat, 3.3ms\n",
      "Speed: 1.4ms preprocess, 3.3ms inference, 0.6ms postprocess per image at shape (1, 3, 640, 640)\n",
      "\n",
      "image 1/1 /home/greatness-within/Downloads/animals/tiger-resize-512/tiger029.png: 640x640 1 zebra, 3.3ms\n",
      "Speed: 1.4ms preprocess, 3.3ms inference, 0.6ms postprocess per image at shape (1, 3, 640, 640)\n",
      "\n",
      "image 1/1 /home/greatness-within/Downloads/animals/tiger-resize-512/tiger180.png: 640x640 1 sheep, 1 bear, 3.2ms\n",
      "Speed: 1.3ms preprocess, 3.2ms inference, 0.6ms postprocess per image at shape (1, 3, 640, 640)\n"
     ]
    },
    {
     "name": "stderr",
     "output_type": "stream",
     "text": [
      "libpng warning: iCCP: known incorrect sRGB profile\n",
      "libpng warning: iCCP: known incorrect sRGB profile\n",
      "libpng warning: iCCP: known incorrect sRGB profile\n"
     ]
    },
    {
     "name": "stdout",
     "output_type": "stream",
     "text": [
      "\n",
      "image 1/1 /home/greatness-within/Downloads/animals/tiger-resize-512/tiger064.png: 640x640 1 bird, 1 zebra, 3.4ms\n",
      "Speed: 1.3ms preprocess, 3.4ms inference, 0.7ms postprocess per image at shape (1, 3, 640, 640)\n",
      "\n",
      "image 1/1 /home/greatness-within/Downloads/animals/tiger-resize-512/tiger100.png: 640x640 1 zebra, 3.4ms\n",
      "Speed: 1.3ms preprocess, 3.4ms inference, 0.5ms postprocess per image at shape (1, 3, 640, 640)\n",
      "\n",
      "image 1/1 /home/greatness-within/Downloads/animals/tiger-resize-512/tiger081.png: 640x640 1 zebra, 3.2ms\n",
      "Speed: 1.3ms preprocess, 3.2ms inference, 4.8ms postprocess per image at shape (1, 3, 640, 640)\n",
      "\n",
      "image 1/1 /home/greatness-within/Downloads/animals/tiger-resize-512/tiger158.png: 640x640 1 zebra, 3.2ms\n",
      "Speed: 1.3ms preprocess, 3.2ms inference, 0.5ms postprocess per image at shape (1, 3, 640, 640)\n",
      "\n",
      "image 1/1 /home/greatness-within/Downloads/animals/tiger-resize-512/tiger179.png: 640x640 1 cat, 3.2ms\n",
      "Speed: 1.3ms preprocess, 3.2ms inference, 0.5ms postprocess per image at shape (1, 3, 640, 640)\n",
      "\n",
      "image 1/1 /home/greatness-within/Downloads/animals/tiger-resize-512/tiger123.png: 640x640 1 bird, 3.2ms\n",
      "Speed: 1.3ms preprocess, 3.2ms inference, 0.6ms postprocess per image at shape (1, 3, 640, 640)\n",
      "\n",
      "image 1/1 /home/greatness-within/Downloads/animals/tiger-resize-512/tiger106.png: 640x640 1 zebra, 3.7ms\n",
      "Speed: 1.3ms preprocess, 3.7ms inference, 1.6ms postprocess per image at shape (1, 3, 640, 640)\n",
      "\n",
      "image 1/1 /home/greatness-within/Downloads/animals/tiger-resize-512/tiger015.png: 640x640 1 bird, 3.2ms\n",
      "Speed: 1.4ms preprocess, 3.2ms inference, 1.0ms postprocess per image at shape (1, 3, 640, 640)\n",
      "\n",
      "image 1/1 /home/greatness-within/Downloads/animals/tiger-resize-512/tiger072.png: 640x640 1 cat, 1 dog, 3.4ms\n",
      "Speed: 1.3ms preprocess, 3.4ms inference, 0.6ms postprocess per image at shape (1, 3, 640, 640)\n",
      "\n"
     ]
    },
    {
     "name": "stderr",
     "output_type": "stream",
     "text": [
      "libpng warning: iCCP: known incorrect sRGB profile\n"
     ]
    },
    {
     "name": "stdout",
     "output_type": "stream",
     "text": [
      "image 1/1 /home/greatness-within/Downloads/animals/tiger-resize-512/tiger060.png: 640x640 2 zebras, 3.2ms\n",
      "Speed: 1.4ms preprocess, 3.2ms inference, 0.6ms postprocess per image at shape (1, 3, 640, 640)\n",
      "\n",
      "image 1/1 /home/greatness-within/Downloads/animals/tiger-resize-512/tiger066.png: 640x640 (no detections), 3.2ms\n",
      "Speed: 1.4ms preprocess, 3.2ms inference, 0.3ms postprocess per image at shape (1, 3, 640, 640)\n",
      "\n",
      "image 1/1 /home/greatness-within/Downloads/animals/tiger-resize-512/tiger239.png: 640x640 1 zebra, 3.2ms\n",
      "Speed: 1.4ms preprocess, 3.2ms inference, 0.6ms postprocess per image at shape (1, 3, 640, 640)\n",
      "\n",
      "image 1/1 /home/greatness-within/Downloads/animals/tiger-resize-512/tiger256.png: 640x640 1 zebra, 3.2ms\n",
      "Speed: 1.3ms preprocess, 3.2ms inference, 0.6ms postprocess per image at shape (1, 3, 640, 640)\n",
      "\n",
      "image 1/1 /home/greatness-within/Downloads/animals/tiger-resize-512/tiger013.png: 640x640 1 cat, 1 giraffe, 3.2ms\n",
      "Speed: 1.5ms preprocess, 3.2ms inference, 0.9ms postprocess per image at shape (1, 3, 640, 640)\n",
      "\n",
      "image 1/1 /home/greatness-within/Downloads/animals/tiger-resize-512/tiger001.png: 640x640 1 zebra, 3.2ms\n",
      "Speed: 1.4ms preprocess, 3.2ms inference, 1.0ms postprocess per image at shape (1, 3, 640, 640)\n",
      "\n",
      "image 1/1 /home/greatness-within/Downloads/animals/tiger-resize-512/tiger099.png: 640x640 1 cat, 3.2ms\n",
      "Speed: 1.4ms preprocess, 3.2ms inference, 0.6ms postprocess per image at shape (1, 3, 640, 640)\n",
      "\n",
      "image 1/1 /home/greatness-within/Downloads/animals/tiger-resize-512/tiger145.png: 640x640 2 zebras, 3.2ms\n",
      "Speed: 1.4ms preprocess, 3.2ms inference, 0.7ms postprocess per image at shape (1, 3, 640, 640)\n",
      "\n",
      "image 1/1 /home/greatness-within/Downloads/animals/tiger-resize-512/tiger065.png: 640x640 1 bird, 1 giraffe, 3.2ms\n",
      "Speed: 1.6ms preprocess, 3.2ms inference, 0.7ms postprocess per image at shape (1, 3, 640, 640)\n",
      "\n",
      "image 1/1 /home/greatness-within/Downloads/animals/tiger-resize-512/tiger096.png: 640x640 1 bird, 3.2ms\n",
      "Speed: 1.3ms preprocess, 3.2ms inference, 0.7ms postprocess per image at shape (1, 3, 640, 640)\n"
     ]
    },
    {
     "name": "stderr",
     "output_type": "stream",
     "text": [
      "libpng warning: iCCP: known incorrect sRGB profile\n",
      "libpng warning: iCCP: known incorrect sRGB profile\n"
     ]
    },
    {
     "name": "stdout",
     "output_type": "stream",
     "text": [
      "\n",
      "image 1/1 /home/greatness-within/Downloads/animals/tiger-resize-512/tiger011.png: 640x640 1 cat, 3.3ms\n",
      "Speed: 1.5ms preprocess, 3.3ms inference, 1.0ms postprocess per image at shape (1, 3, 640, 640)\n",
      "\n",
      "image 1/1 /home/greatness-within/Downloads/animals/tiger-resize-512/tiger149.png: 640x640 1 zebra, 3.2ms\n",
      "Speed: 1.4ms preprocess, 3.2ms inference, 0.5ms postprocess per image at shape (1, 3, 640, 640)\n",
      "\n",
      "image 1/1 /home/greatness-within/Downloads/animals/tiger-resize-512/tiger051.png: 640x640 1 zebra, 3.2ms\n",
      "Speed: 1.4ms preprocess, 3.2ms inference, 0.6ms postprocess per image at shape (1, 3, 640, 640)\n",
      "\n",
      "image 1/1 /home/greatness-within/Downloads/animals/tiger-resize-512/tiger254.png: 640x640 1 zebra, 3.2ms\n",
      "Speed: 1.3ms preprocess, 3.2ms inference, 0.6ms postprocess per image at shape (1, 3, 640, 640)\n",
      "\n",
      "image 1/1 /home/greatness-within/Downloads/animals/tiger-resize-512/tiger162.png: 640x640 1 horse, 1 giraffe, 3.2ms\n",
      "Speed: 1.3ms preprocess, 3.2ms inference, 0.6ms postprocess per image at shape (1, 3, 640, 640)\n",
      "\n",
      "image 1/1 /home/greatness-within/Downloads/animals/tiger-resize-512/tiger201.png: 640x640 1 zebra, 3.5ms\n",
      "Speed: 1.3ms preprocess, 3.5ms inference, 0.5ms postprocess per image at shape (1, 3, 640, 640)\n",
      "\n",
      "image 1/1 /home/greatness-within/Downloads/animals/tiger-resize-512/tiger061.png: 640x640 2 cats, 3.5ms\n",
      "Speed: 1.4ms preprocess, 3.5ms inference, 0.6ms postprocess per image at shape (1, 3, 640, 640)\n",
      "\n",
      "image 1/1 /home/greatness-within/Downloads/animals/tiger-resize-512/tiger146.png: 640x640 1 zebra, 3.3ms\n",
      "Speed: 1.4ms preprocess, 3.3ms inference, 0.5ms postprocess per image at shape (1, 3, 640, 640)\n",
      "\n",
      "image 1/1 /home/greatness-within/Downloads/animals/tiger-resize-512/tiger071.png: 640x640 1 zebra, 3.3ms\n",
      "Speed: 1.4ms preprocess, 3.3ms inference, 0.5ms postprocess per image at shape (1, 3, 640, 640)\n",
      "\n",
      "image 1/1 /home/greatness-within/Downloads/animals/tiger-resize-512/tiger259.png: 640x640 1 zebra, 3.3ms\n",
      "Speed: 1.4ms preprocess, 3.3ms inference, 0.6ms postprocess per image at shape (1, 3, 640, 640)\n",
      "\n",
      "image 1/1 /home/greatness-within/Downloads/animals/tiger-resize-512/tiger211.png: 640x640 1 zebra, 3.3ms\n",
      "Speed: 1.4ms preprocess, 3.3ms inference, 0.5ms postprocess per image at shape (1, 3, 640, 640)\n",
      "\n",
      "image 1/1 /home/greatness-within/Downloads/animals/tiger-resize-512/tiger012.png: 640x640 1 horse, 3.3ms\n",
      "Speed: 1.4ms preprocess, 3.3ms inference, 0.5ms postprocess per image at shape (1, 3, 640, 640)\n",
      "\n",
      "image 1/1 /home/greatness-within/Downloads/animals/tiger-resize-512/tiger136.png: 640x640 1 horse, 4.7ms\n",
      "Speed: 1.4ms preprocess, 4.7ms inference, 0.5ms postprocess per image at shape (1, 3, 640, 640)\n",
      "\n",
      "image 1/1 /home/greatness-within/Downloads/animals/tiger-resize-512/tiger168.png: 640x640 1 cat, 3.3ms\n",
      "Speed: 1.3ms preprocess, 3.3ms inference, 0.6ms postprocess per image at shape (1, 3, 640, 640)\n",
      "\n",
      "image 1/1 /home/greatness-within/Downloads/animals/tiger-resize-512/tiger194.png: 640x640 1 cat, 3.5ms\n",
      "Speed: 1.4ms preprocess, 3.5ms inference, 0.6ms postprocess per image at shape (1, 3, 640, 640)\n",
      "\n",
      "image 1/1 /home/greatness-within/Downloads/animals/tiger-resize-512/tiger047.png: 640x640 2 zebras, 3.3ms\n",
      "Speed: 1.3ms preprocess, 3.3ms inference, 0.6ms postprocess per image at shape (1, 3, 640, 640)\n",
      "\n",
      "image 1/1 /home/greatness-within/Downloads/animals/tiger-resize-512/tiger218.png: 640x640 1 zebra, 3.3ms\n",
      "Speed: 1.4ms preprocess, 3.3ms inference, 0.6ms postprocess per image at shape (1, 3, 640, 640)\n",
      "\n",
      "image 1/1 /home/greatness-within/Downloads/animals/tiger-resize-512/tiger161.png: 640x640 1 zebra, 1 giraffe, 3.3ms\n",
      "Speed: 1.3ms preprocess, 3.3ms inference, 0.6ms postprocess per image at shape (1, 3, 640, 640)\n",
      "\n",
      "image 1/1 /home/greatness-within/Downloads/animals/tiger-resize-512/tiger245.png: 640x640 1 sheep, 3.3ms\n",
      "Speed: 1.5ms preprocess, 3.3ms inference, 0.6ms postprocess per image at shape (1, 3, 640, 640)\n",
      "\n",
      "image 1/1 /home/greatness-within/Downloads/animals/tiger-resize-512/tiger157.png: 640x640 1 zebra, 3.3ms\n",
      "Speed: 1.5ms preprocess, 3.3ms inference, 0.6ms postprocess per image at shape (1, 3, 640, 640)\n",
      "\n",
      "image 1/1 /home/greatness-within/Downloads/animals/tiger-resize-512/tiger131.png: 640x640 1 zebra, 3.3ms\n",
      "Speed: 1.4ms preprocess, 3.3ms inference, 0.6ms postprocess per image at shape (1, 3, 640, 640)\n",
      "\n",
      "image 1/1 /home/greatness-within/Downloads/animals/tiger-resize-512/tiger182.png: 640x640 (no detections), 3.3ms\n",
      "Speed: 1.4ms preprocess, 3.3ms inference, 0.6ms postprocess per image at shape (1, 3, 640, 640)\n",
      "\n",
      "image 1/1 /home/greatness-within/Downloads/animals/tiger-resize-512/tiger243.png: 640x640 1 horse, 1 zebra, 3.3ms\n",
      "Speed: 1.4ms preprocess, 3.3ms inference, 0.6ms postprocess per image at shape (1, 3, 640, 640)\n",
      "\n",
      "image 1/1 /home/greatness-within/Downloads/animals/tiger-resize-512/tiger185.png: 640x640 1 horse, 3.2ms\n",
      "Speed: 1.4ms preprocess, 3.2ms inference, 0.6ms postprocess per image at shape (1, 3, 640, 640)\n"
     ]
    },
    {
     "name": "stderr",
     "output_type": "stream",
     "text": [
      "libpng warning: iCCP: known incorrect sRGB profile\n"
     ]
    },
    {
     "name": "stdout",
     "output_type": "stream",
     "text": [
      "\n",
      "image 1/1 /home/greatness-within/Downloads/animals/tiger-resize-512/tiger199.png: 640x640 1 zebra, 3.3ms\n",
      "Speed: 1.4ms preprocess, 3.3ms inference, 2.0ms postprocess per image at shape (1, 3, 640, 640)\n",
      "\n",
      "image 1/1 /home/greatness-within/Downloads/animals/tiger-resize-512/tiger247.png: 640x640 1 giraffe, 3.5ms\n",
      "Speed: 1.4ms preprocess, 3.5ms inference, 0.6ms postprocess per image at shape (1, 3, 640, 640)\n",
      "\n",
      "image 1/1 /home/greatness-within/Downloads/animals/tiger-resize-512/tiger209.png: 640x640 1 horse, 3.3ms\n",
      "Speed: 1.4ms preprocess, 3.3ms inference, 0.9ms postprocess per image at shape (1, 3, 640, 640)\n",
      "\n",
      "image 1/1 /home/greatness-within/Downloads/animals/tiger-resize-512/tiger258.png: 640x640 1 cat, 3.3ms\n",
      "Speed: 1.3ms preprocess, 3.3ms inference, 0.7ms postprocess per image at shape (1, 3, 640, 640)\n",
      "\n",
      "image 1/1 /home/greatness-within/Downloads/animals/tiger-resize-512/tiger144.png: 640x640 (no detections), 3.3ms\n",
      "Speed: 1.4ms preprocess, 3.3ms inference, 0.3ms postprocess per image at shape (1, 3, 640, 640)\n",
      "\n",
      "image 1/1 /home/greatness-within/Downloads/animals/tiger-resize-512/tiger198.png: 640x640 1 bird, 1 giraffe, 3.9ms\n",
      "Speed: 1.3ms preprocess, 3.9ms inference, 0.5ms postprocess per image at shape (1, 3, 640, 640)\n",
      "\n",
      "image 1/1 /home/greatness-within/Downloads/animals/tiger-resize-512/tiger092.png: 640x640 1 cat, 3.3ms\n",
      "Speed: 1.4ms preprocess, 3.3ms inference, 0.6ms postprocess per image at shape (1, 3, 640, 640)\n",
      "\n",
      "image 1/1 /home/greatness-within/Downloads/animals/tiger-resize-512/tiger246.png: 640x640 1 zebra, 3.3ms\n",
      "Speed: 1.4ms preprocess, 3.3ms inference, 0.6ms postprocess per image at shape (1, 3, 640, 640)\n",
      "\n",
      "image 1/1 /home/greatness-within/Downloads/animals/tiger-resize-512/tiger235.png: 640x640 1 dog, 3.3ms\n",
      "Speed: 1.3ms preprocess, 3.3ms inference, 0.6ms postprocess per image at shape (1, 3, 640, 640)\n",
      "\n",
      "image 1/1 /home/greatness-within/Downloads/animals/tiger-resize-512/tiger115.png: 640x640 1 zebra, 5.0ms\n",
      "Speed: 1.5ms preprocess, 5.0ms inference, 5.1ms postprocess per image at shape (1, 3, 640, 640)\n",
      "\n",
      "image 1/1 /home/greatness-within/Downloads/animals/tiger-resize-512/tiger050.png: 640x640 (no detections), 3.5ms\n",
      "Speed: 1.3ms preprocess, 3.5ms inference, 0.3ms postprocess per image at shape (1, 3, 640, 640)\n",
      "\n",
      "image 1/1 /home/greatness-within/Downloads/animals/tiger-resize-512/tiger045.png: 640x640 1 cat, 1 giraffe, 3.5ms\n",
      "Speed: 1.4ms preprocess, 3.5ms inference, 3.4ms postprocess per image at shape (1, 3, 640, 640)\n",
      "\n",
      "image 1/1 /home/greatness-within/Downloads/animals/tiger-resize-512/tiger226.png: 640x640 1 bird, 3.2ms\n",
      "Speed: 1.7ms preprocess, 3.2ms inference, 0.6ms postprocess per image at shape (1, 3, 640, 640)\n",
      "\n",
      "image 1/1 /home/greatness-within/Downloads/animals/tiger-resize-512/tiger033.png: 640x640 1 giraffe, 3.2ms\n",
      "Speed: 1.6ms preprocess, 3.2ms inference, 0.6ms postprocess per image at shape (1, 3, 640, 640)\n",
      "\n",
      "image 1/1 /home/greatness-within/Downloads/animals/tiger-resize-512/tiger266.png: 640x640 1 zebra, 3.3ms\n",
      "Speed: 1.4ms preprocess, 3.3ms inference, 1.0ms postprocess per image at shape (1, 3, 640, 640)\n",
      "\n",
      "image 1/1 /home/greatness-within/Downloads/animals/tiger-resize-512/tiger014.png: 640x640 1 horse, 3.3ms\n",
      "Speed: 1.3ms preprocess, 3.3ms inference, 0.7ms postprocess per image at shape (1, 3, 640, 640)\n",
      "\n",
      "image 1/1 /home/greatness-within/Downloads/animals/tiger-resize-512/tiger031.png: 640x640 1 zebra, 3.3ms\n",
      "Speed: 1.4ms preprocess, 3.3ms inference, 0.6ms postprocess per image at shape (1, 3, 640, 640)\n",
      "\n",
      "image 1/1 /home/greatness-within/Downloads/animals/tiger-resize-512/tiger193.png: 640x640 1 zebra, 3.3ms\n",
      "Speed: 1.5ms preprocess, 3.3ms inference, 0.6ms postprocess per image at shape (1, 3, 640, 640)\n"
     ]
    },
    {
     "name": "stderr",
     "output_type": "stream",
     "text": [
      "libpng warning: iCCP: known incorrect sRGB profile\n"
     ]
    },
    {
     "name": "stdout",
     "output_type": "stream",
     "text": [
      "\n",
      "image 1/1 /home/greatness-within/Downloads/animals/tiger-resize-512/tiger058.png: 640x640 1 horse, 1 zebra, 3.3ms\n",
      "Speed: 1.5ms preprocess, 3.3ms inference, 0.6ms postprocess per image at shape (1, 3, 640, 640)\n",
      "\n",
      "image 1/1 /home/greatness-within/Downloads/animals/tiger-resize-512/tiger216.png: 640x640 1 cat, 3.3ms\n",
      "Speed: 1.4ms preprocess, 3.3ms inference, 1.2ms postprocess per image at shape (1, 3, 640, 640)\n",
      "\n",
      "image 1/1 /home/greatness-within/Downloads/animals/tiger-resize-512/tiger176.png: 640x640 1 zebra, 4.7ms\n",
      "Speed: 1.3ms preprocess, 4.7ms inference, 5.5ms postprocess per image at shape (1, 3, 640, 640)\n",
      "\n",
      "image 1/1 /home/greatness-within/Downloads/animals/tiger-resize-512/tiger120.png: 640x640 1 zebra, 3.3ms\n",
      "Speed: 1.5ms preprocess, 3.3ms inference, 0.6ms postprocess per image at shape (1, 3, 640, 640)\n",
      "\n",
      "image 1/1 /home/greatness-within/Downloads/animals/tiger-resize-512/tiger109.png: 640x640 1 cat, 3.9ms\n",
      "Speed: 1.4ms preprocess, 3.9ms inference, 0.6ms postprocess per image at shape (1, 3, 640, 640)\n",
      "\n",
      "image 1/1 /home/greatness-within/Downloads/animals/tiger-resize-512/tiger044.png: 640x640 1 zebra, 3.8ms\n",
      "Speed: 1.5ms preprocess, 3.8ms inference, 1.1ms postprocess per image at shape (1, 3, 640, 640)\n",
      "\n"
     ]
    },
    {
     "name": "stderr",
     "output_type": "stream",
     "text": [
      "libpng warning: iCCP: known incorrect sRGB profile\n"
     ]
    },
    {
     "name": "stdout",
     "output_type": "stream",
     "text": [
      "image 1/1 /home/greatness-within/Downloads/animals/tiger-resize-512/tiger196.png: 640x640 2 cats, 3.3ms\n",
      "Speed: 1.3ms preprocess, 3.3ms inference, 0.6ms postprocess per image at shape (1, 3, 640, 640)\n",
      "\n",
      "image 1/1 /home/greatness-within/Downloads/animals/tiger-resize-512/tiger229.png: 640x640 1 horse, 1 zebra, 3.3ms\n",
      "Speed: 1.4ms preprocess, 3.3ms inference, 1.4ms postprocess per image at shape (1, 3, 640, 640)\n",
      "\n",
      "image 1/1 /home/greatness-within/Downloads/animals/tiger-resize-512/tiger005.png: 640x640 1 cat, 3.3ms\n",
      "Speed: 1.4ms preprocess, 3.3ms inference, 0.7ms postprocess per image at shape (1, 3, 640, 640)\n",
      "\n",
      "image 1/1 /home/greatness-within/Downloads/animals/tiger-resize-512/tiger225.png: 640x640 1 bird, 1 zebra, 3.9ms\n",
      "Speed: 1.4ms preprocess, 3.9ms inference, 1.5ms postprocess per image at shape (1, 3, 640, 640)\n",
      "\n",
      "image 1/1 /home/greatness-within/Downloads/animals/tiger-resize-512/tiger134.png: 640x640 1 cat, 3.3ms\n",
      "Speed: 1.4ms preprocess, 3.3ms inference, 1.0ms postprocess per image at shape (1, 3, 640, 640)\n",
      "\n",
      "image 1/1 /home/greatness-within/Downloads/animals/tiger-resize-512/tiger057.png: 640x640 1 zebra, 3.8ms\n",
      "Speed: 1.5ms preprocess, 3.8ms inference, 0.6ms postprocess per image at shape (1, 3, 640, 640)\n"
     ]
    },
    {
     "name": "stderr",
     "output_type": "stream",
     "text": [
      "libpng warning: iCCP: known incorrect sRGB profile\n"
     ]
    },
    {
     "name": "stdout",
     "output_type": "stream",
     "text": [
      "\n",
      "image 1/1 /home/greatness-within/Downloads/animals/tiger-resize-512/tiger228.png: 640x640 (no detections), 3.3ms\n",
      "Speed: 1.5ms preprocess, 3.3ms inference, 0.3ms postprocess per image at shape (1, 3, 640, 640)\n",
      "\n",
      "image 1/1 /home/greatness-within/Downloads/animals/tiger-resize-512/tiger059.png: 640x640 1 zebra, 4.1ms\n",
      "Speed: 1.4ms preprocess, 4.1ms inference, 1.2ms postprocess per image at shape (1, 3, 640, 640)\n",
      "\n",
      "image 1/1 /home/greatness-within/Downloads/animals/tiger-resize-512/tiger204.png: 640x640 1 cat, 3.3ms\n",
      "Speed: 1.4ms preprocess, 3.3ms inference, 1.6ms postprocess per image at shape (1, 3, 640, 640)\n",
      "\n",
      "image 1/1 /home/greatness-within/Downloads/animals/tiger-resize-512/tiger181.png: 640x640 1 zebra, 3.3ms\n",
      "Speed: 1.5ms preprocess, 3.3ms inference, 0.6ms postprocess per image at shape (1, 3, 640, 640)\n",
      "\n",
      "image 1/1 /home/greatness-within/Downloads/animals/tiger-resize-512/tiger049.png: 640x640 1 zebra, 6.9ms\n",
      "Speed: 1.6ms preprocess, 6.9ms inference, 1.5ms postprocess per image at shape (1, 3, 640, 640)\n",
      "\n",
      "image 1/1 /home/greatness-within/Downloads/animals/tiger-resize-512/tiger231.png: 640x640 1 zebra, 4.0ms\n",
      "Speed: 1.4ms preprocess, 4.0ms inference, 0.6ms postprocess per image at shape (1, 3, 640, 640)\n",
      "\n"
     ]
    },
    {
     "name": "stderr",
     "output_type": "stream",
     "text": [
      "libpng warning: iCCP: known incorrect sRGB profile\n"
     ]
    },
    {
     "name": "stdout",
     "output_type": "stream",
     "text": [
      "image 1/1 /home/greatness-within/Downloads/animals/tiger-resize-512/tiger091.png: 640x640 1 zebra, 3.3ms\n",
      "Speed: 1.4ms preprocess, 3.3ms inference, 0.6ms postprocess per image at shape (1, 3, 640, 640)\n",
      "\n",
      "image 1/1 /home/greatness-within/Downloads/animals/tiger-resize-512/tiger213.png: 640x640 1 zebra, 3.3ms\n",
      "Speed: 1.4ms preprocess, 3.3ms inference, 0.6ms postprocess per image at shape (1, 3, 640, 640)\n",
      "\n",
      "image 1/1 /home/greatness-within/Downloads/animals/tiger-resize-512/tiger088.png: 640x640 1 cat, 1 zebra, 3.3ms\n",
      "Speed: 2.1ms preprocess, 3.3ms inference, 0.6ms postprocess per image at shape (1, 3, 640, 640)\n",
      "\n",
      "image 1/1 /home/greatness-within/Downloads/animals/tiger-resize-512/tiger127.png: 640x640 1 zebra, 4.5ms\n",
      "Speed: 1.4ms preprocess, 4.5ms inference, 3.4ms postprocess per image at shape (1, 3, 640, 640)\n",
      "\n",
      "image 1/1 /home/greatness-within/Downloads/animals/tiger-resize-512/tiger252.png: 640x640 1 giraffe, 3.5ms\n",
      "Speed: 1.5ms preprocess, 3.5ms inference, 0.6ms postprocess per image at shape (1, 3, 640, 640)\n",
      "\n",
      "image 1/1 /home/greatness-within/Downloads/animals/tiger-resize-512/tiger236.png: 640x640 1 zebra, 3.9ms\n",
      "Speed: 1.4ms preprocess, 3.9ms inference, 0.6ms postprocess per image at shape (1, 3, 640, 640)\n",
      "\n",
      "image 1/1 /home/greatness-within/Downloads/animals/tiger-resize-512/tiger217.png: 640x640 1 zebra, 3.3ms\n",
      "Speed: 1.4ms preprocess, 3.3ms inference, 0.6ms postprocess per image at shape (1, 3, 640, 640)\n",
      "\n",
      "image 1/1 /home/greatness-within/Downloads/animals/tiger-resize-512/tiger097.png: 640x640 1 zebra, 3.3ms\n",
      "Speed: 1.4ms preprocess, 3.3ms inference, 0.6ms postprocess per image at shape (1, 3, 640, 640)\n",
      "\n",
      "image 1/1 /home/greatness-within/Downloads/animals/tiger-resize-512/tiger165.png: 640x640 2 zebras, 3.3ms\n",
      "Speed: 1.4ms preprocess, 3.3ms inference, 0.6ms postprocess per image at shape (1, 3, 640, 640)\n",
      "\n",
      "image 1/1 /home/greatness-within/Downloads/animals/tiger-resize-512/tiger118.png: 640x640 1 zebra, 3.3ms\n",
      "Speed: 1.3ms preprocess, 3.3ms inference, 0.6ms postprocess per image at shape (1, 3, 640, 640)\n",
      "\n",
      "image 1/1 /home/greatness-within/Downloads/animals/tiger-resize-512/tiger056.png: 640x640 (no detections), 3.6ms\n",
      "Speed: 1.6ms preprocess, 3.6ms inference, 0.4ms postprocess per image at shape (1, 3, 640, 640)\n",
      "\n",
      "image 1/1 /home/greatness-within/Downloads/animals/tiger-resize-512/tiger188.png: 640x640 1 zebra, 3.3ms\n",
      "Speed: 1.4ms preprocess, 3.3ms inference, 0.7ms postprocess per image at shape (1, 3, 640, 640)\n",
      "\n",
      "image 1/1 /home/greatness-within/Downloads/animals/tiger-resize-512/tiger237.png: 640x640 2 zebras, 3.3ms\n",
      "Speed: 1.4ms preprocess, 3.3ms inference, 0.6ms postprocess per image at shape (1, 3, 640, 640)\n",
      "\n",
      "image 1/1 /home/greatness-within/Downloads/animals/tiger-resize-512/tiger112.png: 640x640 1 horse, 2 zebras, 3.8ms\n",
      "Speed: 1.4ms preprocess, 3.8ms inference, 0.6ms postprocess per image at shape (1, 3, 640, 640)\n",
      "\n",
      "image 1/1 /home/greatness-within/Downloads/animals/tiger-resize-512/tiger169.png: 640x640 1 person, 1 bird, 2 zebras, 3.8ms\n",
      "Speed: 1.4ms preprocess, 3.8ms inference, 1.2ms postprocess per image at shape (1, 3, 640, 640)\n",
      "\n",
      "image 1/1 /home/greatness-within/Downloads/animals/tiger-resize-512/tiger268.png: 640x640 1 horse, 4.1ms\n",
      "Speed: 1.4ms preprocess, 4.1ms inference, 0.7ms postprocess per image at shape (1, 3, 640, 640)\n"
     ]
    },
    {
     "name": "stderr",
     "output_type": "stream",
     "text": [
      "libpng warning: iCCP: known incorrect sRGB profile\n"
     ]
    },
    {
     "name": "stdout",
     "output_type": "stream",
     "text": [
      "\n",
      "image 1/1 /home/greatness-within/Downloads/animals/tiger-resize-512/tiger156.png: 640x640 2 zebras, 3.9ms\n",
      "Speed: 2.1ms preprocess, 3.9ms inference, 4.9ms postprocess per image at shape (1, 3, 640, 640)\n",
      "\n",
      "image 1/1 /home/greatness-within/Downloads/animals/tiger-resize-512/tiger114.png: 640x640 3 zebras, 6.7ms\n",
      "Speed: 1.6ms preprocess, 6.7ms inference, 0.6ms postprocess per image at shape (1, 3, 640, 640)\n",
      "\n",
      "image 1/1 /home/greatness-within/Downloads/animals/tiger-resize-512/tiger195.png: 640x640 1 zebra, 3.3ms\n",
      "Speed: 1.4ms preprocess, 3.3ms inference, 1.0ms postprocess per image at shape (1, 3, 640, 640)\n",
      "\n",
      "image 1/1 /home/greatness-within/Downloads/animals/tiger-resize-512/tiger135.png: 640x640 1 zebra, 3.2ms\n",
      "Speed: 1.4ms preprocess, 3.2ms inference, 0.9ms postprocess per image at shape (1, 3, 640, 640)\n",
      "\n",
      "image 1/1 /home/greatness-within/Downloads/animals/tiger-resize-512/tiger148.png: 640x640 1 horse, 3.9ms\n",
      "Speed: 1.4ms preprocess, 3.9ms inference, 0.6ms postprocess per image at shape (1, 3, 640, 640)\n",
      "\n",
      "image 1/1 /home/greatness-within/Downloads/animals/tiger-resize-512/tiger174.png: 640x640 1 zebra, 3.1ms\n",
      "Speed: 1.3ms preprocess, 3.1ms inference, 0.6ms postprocess per image at shape (1, 3, 640, 640)\n",
      "\n",
      "image 1/1 /home/greatness-within/Downloads/animals/tiger-resize-512/tiger140.png: 640x640 1 cat, 4.5ms\n",
      "Speed: 2.4ms preprocess, 4.5ms inference, 0.6ms postprocess per image at shape (1, 3, 640, 640)\n",
      "\n",
      "image 1/1 /home/greatness-within/Downloads/animals/tiger-resize-512/tiger215.png: 640x640 1 cat, 3.1ms\n",
      "Speed: 1.4ms preprocess, 3.1ms inference, 0.6ms postprocess per image at shape (1, 3, 640, 640)\n",
      "\n",
      "image 1/1 /home/greatness-within/Downloads/animals/tiger-resize-512/tiger160.png: 640x640 1 sheep, 3.3ms\n",
      "Speed: 1.3ms preprocess, 3.3ms inference, 0.6ms postprocess per image at shape (1, 3, 640, 640)\n",
      "\n",
      "image 1/1 /home/greatness-within/Downloads/animals/tiger-resize-512/tiger138.png: 640x640 2 zebras, 3.1ms\n",
      "Speed: 1.3ms preprocess, 3.1ms inference, 0.6ms postprocess per image at shape (1, 3, 640, 640)\n",
      "\n",
      "image 1/1 /home/greatness-within/Downloads/animals/tiger-resize-512/tiger105.png: 640x640 1 horse, 1 zebra, 3.1ms\n",
      "Speed: 1.5ms preprocess, 3.1ms inference, 0.6ms postprocess per image at shape (1, 3, 640, 640)\n",
      "\n",
      "image 1/1 /home/greatness-within/Downloads/animals/tiger-resize-512/tiger128.png: 640x640 1 cat, 1 bear, 5.2ms\n",
      "Speed: 1.5ms preprocess, 5.2ms inference, 0.9ms postprocess per image at shape (1, 3, 640, 640)\n",
      "\n",
      "image 1/1 /home/greatness-within/Downloads/animals/tiger-resize-512/tiger186.png: 640x640 1 horse, 1 zebra, 3.7ms\n",
      "Speed: 1.3ms preprocess, 3.7ms inference, 0.6ms postprocess per image at shape (1, 3, 640, 640)\n",
      "\n",
      "image 1/1 /home/greatness-within/Downloads/animals/tiger-resize-512/tiger183.png: 640x640 1 cat, 1 giraffe, 3.1ms\n",
      "Speed: 1.4ms preprocess, 3.1ms inference, 0.6ms postprocess per image at shape (1, 3, 640, 640)\n",
      "\n",
      "image 1/1 /home/greatness-within/Downloads/animals/tiger-resize-512/tiger007.png: 640x640 1 zebra, 3.1ms\n",
      "Speed: 1.4ms preprocess, 3.1ms inference, 0.9ms postprocess per image at shape (1, 3, 640, 640)\n",
      "\n",
      "image 1/1 /home/greatness-within/Downloads/animals/tiger-resize-512/tiger124.png: 640x640 1 sheep, 1 zebra, 3.8ms\n",
      "Speed: 1.4ms preprocess, 3.8ms inference, 0.6ms postprocess per image at shape (1, 3, 640, 640)\n",
      "\n",
      "image 1/1 /home/greatness-within/Downloads/animals/tiger-resize-512/tiger251.png: 640x640 (no detections), 3.1ms\n",
      "Speed: 1.4ms preprocess, 3.1ms inference, 0.4ms postprocess per image at shape (1, 3, 640, 640)\n",
      "\n",
      "image 1/1 /home/greatness-within/Downloads/animals/tiger-resize-512/tiger083.png: 640x640 1 bird, 1 zebra, 3.8ms\n",
      "Speed: 1.4ms preprocess, 3.8ms inference, 0.7ms postprocess per image at shape (1, 3, 640, 640)\n",
      "\n",
      "image 1/1 /home/greatness-within/Downloads/animals/tiger-resize-512/tiger086.png: 640x640 1 zebra, 3.8ms\n",
      "Speed: 1.4ms preprocess, 3.8ms inference, 3.9ms postprocess per image at shape (1, 3, 640, 640)\n",
      "\n",
      "image 1/1 /home/greatness-within/Downloads/animals/tiger-resize-512/tiger234.png: 640x640 1 zebra, 3.8ms\n",
      "Speed: 1.4ms preprocess, 3.8ms inference, 7.2ms postprocess per image at shape (1, 3, 640, 640)\n",
      "\n"
     ]
    },
    {
     "name": "stderr",
     "output_type": "stream",
     "text": [
      "libpng warning: iCCP: known incorrect sRGB profile\n"
     ]
    },
    {
     "name": "stdout",
     "output_type": "stream",
     "text": [
      "image 1/1 /home/greatness-within/Downloads/animals/tiger-resize-512/tiger107.png: 640x640 1 bird, 4.0ms\n",
      "Speed: 1.6ms preprocess, 4.0ms inference, 0.6ms postprocess per image at shape (1, 3, 640, 640)\n",
      "\n",
      "image 1/1 /home/greatness-within/Downloads/animals/tiger-resize-512/tiger030.png: 640x640 1 zebra, 3.1ms\n",
      "Speed: 1.3ms preprocess, 3.1ms inference, 0.7ms postprocess per image at shape (1, 3, 640, 640)\n",
      "\n",
      "image 1/1 /home/greatness-within/Downloads/animals/tiger-resize-512/tiger027.png: 640x640 (no detections), 3.1ms\n",
      "Speed: 1.4ms preprocess, 3.1ms inference, 0.3ms postprocess per image at shape (1, 3, 640, 640)\n",
      "\n",
      "image 1/1 /home/greatness-within/Downloads/animals/tiger-resize-512/tiger069.png: 640x640 1 zebra, 3.1ms\n",
      "Speed: 1.4ms preprocess, 3.1ms inference, 0.9ms postprocess per image at shape (1, 3, 640, 640)\n",
      "\n",
      "image 1/1 /home/greatness-within/Downloads/animals/tiger-resize-512/tiger026.png: 640x640 (no detections), 4.4ms\n",
      "Speed: 1.4ms preprocess, 4.4ms inference, 2.8ms postprocess per image at shape (1, 3, 640, 640)\n"
     ]
    },
    {
     "name": "stderr",
     "output_type": "stream",
     "text": [
      "libpng warning: iCCP: known incorrect sRGB profile\n",
      "libpng warning: iCCP: known incorrect sRGB profile\n"
     ]
    },
    {
     "name": "stdout",
     "output_type": "stream",
     "text": [
      "\n",
      "image 1/1 /home/greatness-within/Downloads/animals/tiger-resize-512/tiger055.png: 640x640 1 cake, 3.8ms\n",
      "Speed: 1.5ms preprocess, 3.8ms inference, 6.1ms postprocess per image at shape (1, 3, 640, 640)\n",
      "\n",
      "image 1/1 /home/greatness-within/Downloads/animals/tiger-resize-512/tiger079.png: 640x640 1 zebra, 3.1ms\n",
      "Speed: 1.3ms preprocess, 3.1ms inference, 0.6ms postprocess per image at shape (1, 3, 640, 640)\n",
      "\n",
      "image 1/1 /home/greatness-within/Downloads/animals/tiger-resize-512/tiger103.png: 640x640 1 zebra, 4.0ms\n",
      "Speed: 1.4ms preprocess, 4.0ms inference, 0.6ms postprocess per image at shape (1, 3, 640, 640)\n",
      "\n",
      "image 1/1 /home/greatness-within/Downloads/animals/tiger-resize-512/tiger113.png: 640x640 1 zebra, 3.1ms\n",
      "Speed: 1.3ms preprocess, 3.1ms inference, 0.6ms postprocess per image at shape (1, 3, 640, 640)\n",
      "\n",
      "image 1/1 /home/greatness-within/Downloads/animals/tiger-resize-512/tiger004.png: 640x640 1 cat, 3.6ms\n",
      "Speed: 1.4ms preprocess, 3.6ms inference, 0.9ms postprocess per image at shape (1, 3, 640, 640)\n",
      "\n",
      "image 1/1 /home/greatness-within/Downloads/animals/tiger-resize-512/tiger077.png: 640x640 1 cat, 5.8ms\n",
      "Speed: 1.8ms preprocess, 5.8ms inference, 2.0ms postprocess per image at shape (1, 3, 640, 640)\n"
     ]
    },
    {
     "name": "stderr",
     "output_type": "stream",
     "text": [
      "libpng warning: iCCP: profile 'ICC Profile': 'desc': ICC profile tag start not a multiple of 4\n",
      "libpng warning: iCCP: profile 'ICC Profile': 'wtpt': ICC profile tag start not a multiple of 4\n",
      "libpng warning: iCCP: profile 'ICC Profile': 'bkpt': ICC profile tag start not a multiple of 4\n",
      "libpng warning: iCCP: profile 'ICC Profile': 'rXYZ': ICC profile tag start not a multiple of 4\n",
      "libpng warning: iCCP: profile 'ICC Profile': 'gXYZ': ICC profile tag start not a multiple of 4\n",
      "libpng warning: iCCP: profile 'ICC Profile': 'bXYZ': ICC profile tag start not a multiple of 4\n",
      "libpng warning: iCCP: profile 'ICC Profile': 'dmnd': ICC profile tag start not a multiple of 4\n",
      "libpng warning: iCCP: profile 'ICC Profile': 'dmdd': ICC profile tag start not a multiple of 4\n",
      "libpng warning: iCCP: profile 'ICC Profile': 'vued': ICC profile tag start not a multiple of 4\n",
      "libpng warning: iCCP: profile 'ICC Profile': 'view': ICC profile tag start not a multiple of 4\n",
      "libpng warning: iCCP: profile 'ICC Profile': 'lumi': ICC profile tag start not a multiple of 4\n",
      "libpng warning: iCCP: profile 'ICC Profile': 'meas': ICC profile tag start not a multiple of 4\n",
      "libpng warning: iCCP: profile 'ICC Profile': 'tech': ICC profile tag start not a multiple of 4\n",
      "libpng warning: iCCP: profile 'ICC Profile': 'rTRC': ICC profile tag start not a multiple of 4\n",
      "libpng warning: iCCP: profile 'ICC Profile': 'gTRC': ICC profile tag start not a multiple of 4\n",
      "libpng warning: iCCP: profile 'ICC Profile': 'bTRC': ICC profile tag start not a multiple of 4\n",
      "libpng warning: iCCP: known incorrect sRGB profile\n"
     ]
    },
    {
     "name": "stdout",
     "output_type": "stream",
     "text": [
      "\n",
      "image 1/1 /home/greatness-within/Downloads/animals/tiger-resize-512/tiger095.png: 640x640 2 horses, 1 sheep, 3.2ms\n",
      "Speed: 1.4ms preprocess, 3.2ms inference, 0.6ms postprocess per image at shape (1, 3, 640, 640)\n",
      "\n",
      "image 1/1 /home/greatness-within/Downloads/animals/tiger-resize-512/tiger032.png: 640x640 (no detections), 3.6ms\n",
      "Speed: 1.3ms preprocess, 3.6ms inference, 0.7ms postprocess per image at shape (1, 3, 640, 640)\n",
      "\n",
      "image 1/1 /home/greatness-within/Downloads/animals/tiger-resize-512/tiger016.png: 640x640 1 zebra, 3.1ms\n",
      "Speed: 1.4ms preprocess, 3.1ms inference, 0.6ms postprocess per image at shape (1, 3, 640, 640)\n",
      "\n",
      "image 1/1 /home/greatness-within/Downloads/animals/tiger-resize-512/tiger205.png: 640x640 1 zebra, 3.4ms\n",
      "Speed: 1.4ms preprocess, 3.4ms inference, 0.6ms postprocess per image at shape (1, 3, 640, 640)\n",
      "\n",
      "image 1/1 /home/greatness-within/Downloads/animals/tiger-resize-512/tiger074.png: 640x640 1 cat, 4.0ms\n",
      "Speed: 1.8ms preprocess, 4.0ms inference, 0.6ms postprocess per image at shape (1, 3, 640, 640)\n",
      "\n"
     ]
    },
    {
     "name": "stderr",
     "output_type": "stream",
     "text": [
      "libpng warning: iCCP: known incorrect sRGB profile\n"
     ]
    },
    {
     "name": "stdout",
     "output_type": "stream",
     "text": [
      "image 1/1 /home/greatness-within/Downloads/animals/tiger-resize-512/tiger224.png: 640x640 1 zebra, 3.7ms\n",
      "Speed: 1.4ms preprocess, 3.7ms inference, 0.7ms postprocess per image at shape (1, 3, 640, 640)\n",
      "\n",
      "image 1/1 /home/greatness-within/Downloads/animals/tiger-resize-512/tiger098.png: 640x640 1 giraffe, 3.6ms\n",
      "Speed: 1.3ms preprocess, 3.6ms inference, 0.6ms postprocess per image at shape (1, 3, 640, 640)\n",
      "\n",
      "image 1/1 /home/greatness-within/Downloads/animals/tiger-resize-512/tiger020.png: 640x640 1 bird, 2 zebras, 3.2ms\n",
      "Speed: 1.4ms preprocess, 3.2ms inference, 0.6ms postprocess per image at shape (1, 3, 640, 640)\n",
      "\n",
      "image 1/1 /home/greatness-within/Downloads/animals/tiger-resize-512/tiger132.png: 640x640 1 zebra, 3.9ms\n",
      "Speed: 1.4ms preprocess, 3.9ms inference, 0.6ms postprocess per image at shape (1, 3, 640, 640)\n",
      "\n",
      "image 1/1 /home/greatness-within/Downloads/animals/tiger-resize-512/tiger153.png: 640x640 1 zebra, 4.5ms\n",
      "Speed: 1.4ms preprocess, 4.5ms inference, 6.4ms postprocess per image at shape (1, 3, 640, 640)\n",
      "\n",
      "image 1/1 /home/greatness-within/Downloads/animals/tiger-resize-512/tiger240.png: 640x640 1 bird, 3.4ms\n",
      "Speed: 1.8ms preprocess, 3.4ms inference, 1.0ms postprocess per image at shape (1, 3, 640, 640)\n",
      "\n",
      "image 1/1 /home/greatness-within/Downloads/animals/tiger-resize-512/tiger212.png: 640x640 1 cat, 3.2ms\n",
      "Speed: 1.3ms preprocess, 3.2ms inference, 0.6ms postprocess per image at shape (1, 3, 640, 640)\n",
      "\n",
      "image 1/1 /home/greatness-within/Downloads/animals/tiger-resize-512/tiger037.png: 640x640 1 zebra, 3.6ms\n",
      "Speed: 1.4ms preprocess, 3.6ms inference, 0.6ms postprocess per image at shape (1, 3, 640, 640)\n",
      "\n",
      "image 1/1 /home/greatness-within/Downloads/animals/tiger-resize-512/tiger210.png: 640x640 1 horse, 1 zebra, 3.2ms\n",
      "Speed: 1.4ms preprocess, 3.2ms inference, 0.6ms postprocess per image at shape (1, 3, 640, 640)\n",
      "\n",
      "image 1/1 /home/greatness-within/Downloads/animals/tiger-resize-512/tiger172.png: 640x640 1 zebra, 3.2ms\n",
      "Speed: 1.4ms preprocess, 3.2ms inference, 0.6ms postprocess per image at shape (1, 3, 640, 640)\n"
     ]
    },
    {
     "name": "stderr",
     "output_type": "stream",
     "text": [
      "libpng warning: iCCP: known incorrect sRGB profile\n"
     ]
    },
    {
     "name": "stdout",
     "output_type": "stream",
     "text": [
      "\n",
      "image 1/1 /home/greatness-within/Downloads/animals/tiger-resize-512/tiger052.png: 640x640 1 zebra, 4.9ms\n",
      "Speed: 2.3ms preprocess, 4.9ms inference, 0.9ms postprocess per image at shape (1, 3, 640, 640)\n",
      "\n",
      "image 1/1 /home/greatness-within/Downloads/animals/tiger-resize-512/tiger119.png: 640x640 1 cat, 4.0ms\n",
      "Speed: 1.4ms preprocess, 4.0ms inference, 0.6ms postprocess per image at shape (1, 3, 640, 640)\n",
      "\n",
      "image 1/1 /home/greatness-within/Downloads/animals/tiger-resize-512/tiger221.png: 640x640 1 cat, 3.2ms\n",
      "Speed: 1.4ms preprocess, 3.2ms inference, 0.6ms postprocess per image at shape (1, 3, 640, 640)\n",
      "\n",
      "image 1/1 /home/greatness-within/Downloads/animals/tiger-resize-512/tiger177.png: 640x640 1 cat, 1 giraffe, 3.2ms\n",
      "Speed: 1.4ms preprocess, 3.2ms inference, 0.6ms postprocess per image at shape (1, 3, 640, 640)\n",
      "\n",
      "image 1/1 /home/greatness-within/Downloads/animals/tiger-resize-512/tiger238.png: 640x640 (no detections), 4.0ms\n",
      "Speed: 1.3ms preprocess, 4.0ms inference, 0.3ms postprocess per image at shape (1, 3, 640, 640)\n"
     ]
    },
    {
     "name": "stderr",
     "output_type": "stream",
     "text": [
      "libpng warning: iCCP: known incorrect sRGB profile\n",
      "libpng warning: iCCP: known incorrect sRGB profile\n"
     ]
    },
    {
     "name": "stdout",
     "output_type": "stream",
     "text": [
      "\n",
      "image 1/1 /home/greatness-within/Downloads/animals/tiger-resize-512/tiger006.png: 640x640 1 cat, 3.2ms\n",
      "Speed: 1.4ms preprocess, 3.2ms inference, 1.1ms postprocess per image at shape (1, 3, 640, 640)\n",
      "\n",
      "image 1/1 /home/greatness-within/Downloads/animals/tiger-resize-512/tiger267.png: 640x640 1 zebra, 3.2ms\n",
      "Speed: 1.4ms preprocess, 3.2ms inference, 0.6ms postprocess per image at shape (1, 3, 640, 640)\n"
     ]
    }
   ],
   "source": [
    "# To get all the cropped images\n",
    "i = 1455\n",
    "for path in all_paths[1455:]:\n",
    "        i+= 1\n",
    "\n",
    "        xyxy = get_boxes(path)\n",
    "        save_images(path, xyxy)\n",
    "    "
   ]
  },
  {
   "cell_type": "code",
   "execution_count": 79,
   "id": "401b3d9a-53a3-472d-89b6-583b6d10f2b0",
   "metadata": {
    "scrolled": true
   },
   "outputs": [
    {
     "name": "stdout",
     "output_type": "stream",
     "text": [
      "1725\n"
     ]
    }
   ],
   "source": [
    "print(i)"
   ]
  },
  {
   "cell_type": "code",
   "execution_count": 90,
   "id": "3331e12f-a2f6-455d-a548-2b3fc4690877",
   "metadata": {},
   "outputs": [
    {
     "data": {
      "text/plain": [
       "1725"
      ]
     },
     "execution_count": 90,
     "metadata": {},
     "output_type": "execute_result"
    }
   ],
   "source": [
    "len(all_paths)"
   ]
  },
  {
   "cell_type": "code",
   "execution_count": null,
   "id": "9360f7a7-182f-443c-ba89-7b558a445fe0",
   "metadata": {},
   "outputs": [],
   "source": []
  }
 ],
 "metadata": {
  "kernelspec": {
   "display_name": "Python 3 (ipykernel)",
   "language": "python",
   "name": "python3"
  },
  "language_info": {
   "codemirror_mode": {
    "name": "ipython",
    "version": 3
   },
   "file_extension": ".py",
   "mimetype": "text/x-python",
   "name": "python",
   "nbconvert_exporter": "python",
   "pygments_lexer": "ipython3",
   "version": "3.10.12"
  }
 },
 "nbformat": 4,
 "nbformat_minor": 5
}
