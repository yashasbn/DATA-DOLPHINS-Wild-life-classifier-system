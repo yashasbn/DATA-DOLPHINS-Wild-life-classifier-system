{
 "cells": [
  {
   "cell_type": "code",
   "execution_count": 1,
   "id": "ddbfc63d-396c-48be-ab8d-e8efe6793791",
   "metadata": {},
   "outputs": [],
   "source": [
    "import chromadb\n",
    "from chromadb.utils.data_loaders import ImageLoader\n",
    "import pickle\n",
    "from sklearn.model_selection import train_test_split\n",
    "import os"
   ]
  },
  {
   "cell_type": "code",
   "execution_count": 2,
   "id": "14a07c9f-7462-4563-9a8d-6d617d303e84",
   "metadata": {},
   "outputs": [],
   "source": [
    "client = chromadb.PersistentClient(path= \"/home/greatness-within/Downloads/animal_embs\")\n",
    "data_loader = ImageLoader()"
   ]
  },
  {
   "cell_type": "code",
   "execution_count": 3,
   "id": "0684741c-0706-4805-864f-730adfe6d620",
   "metadata": {},
   "outputs": [],
   "source": [
    "collection = client.get_or_create_collection(name=\"animal_embs_new_10\",data_loader = data_loader,\n",
    "                                             metadata={\"hnsw:space\": \"cosine\"})"
   ]
  },
  {
   "cell_type": "code",
   "execution_count": 4,
   "id": "c18fef74-bf07-4aff-893f-99ca4b14c9c2",
   "metadata": {},
   "outputs": [],
   "source": [
    "all_paths = []\n",
    "for dir, dir_name, files in os.walk(\"/home/greatness-within/Downloads/animals/cropped/\"):\n",
    "    for file_name in files:\n",
    "        path = os.path.join(dir, file_name)\n",
    "        all_paths.append(path)"
   ]
  },
  {
   "cell_type": "code",
   "execution_count": 5,
   "id": "0a22935f-4d95-4704-801c-7feac4781d16",
   "metadata": {},
   "outputs": [],
   "source": [
    "with open(\"/home/greatness-within/Downloads/animal_embs/names\", 'rb') as file:\n",
    "    # Deserialize and retrieve the variable from the file\n",
    "    all_names = pickle.load(file)\n",
    "\n",
    "with open(\"/home/greatness-within/Downloads/animal_embs/embeddings\", 'rb') as file:\n",
    "    # Deserialize and retrieve the variable from the file\n",
    "    all_embeddings = pickle.load(file)"
   ]
  },
  {
   "cell_type": "code",
   "execution_count": 6,
   "id": "ee588e6b-683a-4160-b682-8ca8160f9402",
   "metadata": {},
   "outputs": [],
   "source": [
    "X_train, X_test, y_train, y_test = train_test_split(all_embeddings,  all_names, test_size= 0.3, random_state=42)"
   ]
  },
  {
   "cell_type": "code",
   "execution_count": 7,
   "id": "fb06e18f-7041-4568-b683-71d06846505b",
   "metadata": {},
   "outputs": [],
   "source": [
    "collection.upsert(\n",
    "    embeddings = all_embeddings[:len(X_train)],\n",
    "    ids = [str(id ) for id in range(0,len(X_train) )],\n",
    "    uris = all_paths[:len(X_train)],\n",
    "    metadatas = [{\"animals\": all_names[i][:-3]} for i in range(len(X_train))]\n",
    ")"
   ]
  },
  {
   "cell_type": "code",
   "execution_count": 11,
   "id": "cdb1f644-13a8-4a9c-81ff-200b3a7b51d1",
   "metadata": {},
   "outputs": [
    {
     "name": "stdout",
     "output_type": "stream",
     "text": [
      "number of wrong predictions:  2\n",
      "number of right predictions:  84\n"
     ]
    }
   ],
   "source": [
    "i = 0\n",
    "correct = 0\n",
    "wrong = 0\n",
    "other = 0\n",
    "for embedding in X_test:\n",
    "    result = collection.query(query_embeddings = embedding)\n",
    "    # print(result[\"metadatas\"][0][0][\"animals\"])\n",
    "    if((result[\"metadatas\"][0][0][\"animals\"] == y_test[i][:-3])):\n",
    "        # print(\"predicted is \", result[\"metadatas\"][0][0][\"person\"])\n",
    "        # print(\"actual is    \", y_test[i])\n",
    "        correct = correct + 1\n",
    "        i = i+1\n",
    "    elif(result[\"distances\"][0][0] > 0.15 and (result[\"metadatas\"][0][0][\"animals\"] != y_test[i])):\n",
    "        # print(\"predicted is \", result[\"metadatas\"][0][0][\"person\"])\n",
    "        # print(\"actual is\", y_test[i])\n",
    "        other = other + 1\n",
    "        i = i+1\n",
    "\n",
    "    else:\n",
    "        # print(\"something went wrong in \", y_test[i])\n",
    "        wrong = wrong + 1\n",
    "        i = i + 1\n",
    "\n",
    "\n",
    "print(\"number of wrong predictions: \",wrong)\n",
    "print(\"number of right predictions: \",correct)\n"
   ]
  },
  {
   "cell_type": "code",
   "execution_count": 9,
   "id": "8c065797-b1cf-472f-9a88-18373a9e9b8b",
   "metadata": {},
   "outputs": [],
   "source": [
    "result = collection.query(query_embeddings = X_train)"
   ]
  },
  {
   "cell_type": "code",
   "execution_count": 13,
   "id": "2098af71-b3e9-4f7d-9199-dfed65425a74",
   "metadata": {},
   "outputs": [
    {
     "data": {
      "text/plain": [
       "0.9767441860465116"
      ]
     },
     "execution_count": 13,
     "metadata": {},
     "output_type": "execute_result"
    }
   ],
   "source": [
    "correct/(correct+wrong)"
   ]
  }
 ],
 "metadata": {
  "kernelspec": {
   "display_name": "Python 3 (ipykernel)",
   "language": "python",
   "name": "python3"
  },
  "language_info": {
   "codemirror_mode": {
    "name": "ipython",
    "version": 3
   },
   "file_extension": ".py",
   "mimetype": "text/x-python",
   "name": "python",
   "nbconvert_exporter": "python",
   "pygments_lexer": "ipython3",
   "version": "3.10.12"
  }
 },
 "nbformat": 4,
 "nbformat_minor": 5
}
